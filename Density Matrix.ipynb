{
 "cells": [
  {
   "cell_type": "code",
   "execution_count": 2,
   "id": "61dbb93b",
   "metadata": {},
   "outputs": [],
   "source": [
    "from qiskit.quantum_info import DensityMatrix\n",
    "\n",
    "from qiskit.visualization import array_to_latex\n"
   ]
  },
  {
   "cell_type": "code",
   "execution_count": 6,
   "id": "4c1a0038",
   "metadata": {},
   "outputs": [
    {
     "name": "stdout",
     "output_type": "stream",
     "text": [
      "DensityMatrix([[0.5 +0.j, 1.  +0.j, 0.25+0.j, 0.5 +0.j],\n",
      "               [0.5 +0.j, 1.  +0.j, 0.25+0.j, 0.5 +0.j],\n",
      "               [0.25+0.j, 0.5 +0.j, 0.5 +0.j, 1.  +0.j],\n",
      "               [0.25+0.j, 0.5 +0.j, 0.5 +0.j, 1.  +0.j]],\n",
      "              dims=(2, 2))\n"
     ]
    }
   ],
   "source": [
    "matrix1 = [[1+0.j, 0.5+0.j], [0.5+0.j, 1+0.j]]\n",
    "matrix2 = [[0.5+0.j, 1+0.j], [0.5+0.j, 1+0.j]]\n",
    "\n",
    "matrix = DensityMatrix(matrix1)\n",
    "final=matrix.tensor(matrix2)\n",
    "print(final)"
   ]
  },
  {
   "cell_type": "code",
   "execution_count": 7,
   "id": "f0793d4b",
   "metadata": {},
   "outputs": [
    {
     "data": {
      "text/latex": [
       "$$\n",
       "\\text{Density Matrix} = \n",
       "\\begin{bmatrix}\n",
       "1 & \\tfrac{1}{2}  \\\\\n",
       " \\tfrac{1}{2} & 1  \\\\\n",
       " \\end{bmatrix}\n",
       "$$"
      ],
      "text/plain": [
       "<IPython.core.display.Latex object>"
      ]
     },
     "execution_count": 7,
     "metadata": {},
     "output_type": "execute_result"
    }
   ],
   "source": [
    "array_to_latex(matrix1, prefix=\"\\\\text{Matrix1} = \")"
   ]
  },
  {
   "cell_type": "code",
   "execution_count": 10,
   "id": "c9eb2556",
   "metadata": {},
   "outputs": [
    {
     "data": {
      "text/latex": [
       "$$\n",
       "\\text{Matrix2} = \n",
       "\\begin{bmatrix}\n",
       "\\tfrac{1}{2} & 1  \\\\\n",
       " \\tfrac{1}{2} & 1  \\\\\n",
       " \\end{bmatrix}\n",
       "$$"
      ],
      "text/plain": [
       "<IPython.core.display.Latex object>"
      ]
     },
     "execution_count": 10,
     "metadata": {},
     "output_type": "execute_result"
    }
   ],
   "source": [
    "array_to_latex(matrix2, prefix=\"\\\\text{Matrix2} = \")"
   ]
  },
  {
   "cell_type": "code",
   "execution_count": 11,
   "id": "26a98118",
   "metadata": {},
   "outputs": [
    {
     "data": {
      "text/latex": [
       "$$\n",
       "\\text{Tensor Product} = \n",
       "\\begin{bmatrix}\n",
       "\\tfrac{1}{2} & 1 & \\tfrac{1}{4} & \\tfrac{1}{2}  \\\\\n",
       " \\tfrac{1}{2} & 1 & \\tfrac{1}{4} & \\tfrac{1}{2}  \\\\\n",
       " \\tfrac{1}{4} & \\tfrac{1}{2} & \\tfrac{1}{2} & 1  \\\\\n",
       " \\tfrac{1}{4} & \\tfrac{1}{2} & \\tfrac{1}{2} & 1  \\\\\n",
       " \\end{bmatrix}\n",
       "$$"
      ],
      "text/plain": [
       "<IPython.core.display.Latex object>"
      ]
     },
     "execution_count": 11,
     "metadata": {},
     "output_type": "execute_result"
    }
   ],
   "source": [
    "array_to_latex(final, prefix=\"\\\\text{Tensor Product} = \")"
   ]
  },
  {
   "cell_type": "code",
   "execution_count": null,
   "id": "a0c4ad56",
   "metadata": {},
   "outputs": [],
   "source": []
  }
 ],
 "metadata": {
  "kernelspec": {
   "display_name": "Python 3 (ipykernel)",
   "language": "python",
   "name": "python3"
  },
  "language_info": {
   "codemirror_mode": {
    "name": "ipython",
    "version": 3
   },
   "file_extension": ".py",
   "mimetype": "text/x-python",
   "name": "python",
   "nbconvert_exporter": "python",
   "pygments_lexer": "ipython3",
   "version": "3.9.6"
  },
  "latex_envs": {
   "LaTeX_envs_menu_present": true,
   "autoclose": false,
   "autocomplete": true,
   "bibliofile": "biblio.bib",
   "cite_by": "apalike",
   "current_citInitial": 1,
   "eqLabelWithNumbers": true,
   "eqNumInitial": 1,
   "hotkeys": {
    "equation": "Ctrl-E",
    "itemize": "Ctrl-I"
   },
   "labels_anchors": false,
   "latex_user_defs": false,
   "report_style_numbering": false,
   "user_envs_cfg": false
  },
  "nbTranslate": {
   "displayLangs": [
    "*"
   ],
   "hotkey": "alt-t",
   "langInMainMenu": true,
   "sourceLang": "en",
   "targetLang": "fr",
   "useGoogleTranslate": true
  },
  "toc": {
   "base_numbering": 1,
   "nav_menu": {},
   "number_sections": true,
   "sideBar": true,
   "skip_h1_title": false,
   "title_cell": "Table of Contents",
   "title_sidebar": "Contents",
   "toc_cell": false,
   "toc_position": {},
   "toc_section_display": true,
   "toc_window_display": false
  },
  "varInspector": {
   "cols": {
    "lenName": 16,
    "lenType": 16,
    "lenVar": 40
   },
   "kernels_config": {
    "python": {
     "delete_cmd_postfix": "",
     "delete_cmd_prefix": "del ",
     "library": "var_list.py",
     "varRefreshCmd": "print(var_dic_list())"
    },
    "r": {
     "delete_cmd_postfix": ") ",
     "delete_cmd_prefix": "rm(",
     "library": "var_list.r",
     "varRefreshCmd": "cat(var_dic_list()) "
    }
   },
   "types_to_exclude": [
    "module",
    "function",
    "builtin_function_or_method",
    "instance",
    "_Feature"
   ],
   "window_display": false
  }
 },
 "nbformat": 4,
 "nbformat_minor": 5
}
